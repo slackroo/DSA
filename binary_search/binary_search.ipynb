{
 "cells": [
  {
   "cell_type": "code",
   "metadata": {
    "collapsed": false,
    "jupyter": {
     "outputs_hidden": false
    },
    "pycharm": {
     "is_executing": true,
     "name": "#%%\n"
    },
    "ExecuteTime": {
     "end_time": "2024-09-12T02:34:53.173274Z",
     "start_time": "2024-09-12T02:34:53.169744Z"
    }
   },
   "source": [
    "from collections import defaultdict\n",
    "from typing import List\n",
    "\n",
    "# import pandas as pd"
   ],
   "outputs": [],
   "execution_count": 23
  },
  {
   "cell_type": "code",
   "metadata": {
    "collapsed": false,
    "jupyter": {
     "outputs_hidden": false
    },
    "pycharm": {
     "name": "#%%\n"
    },
    "ExecuteTime": {
     "end_time": "2024-09-11T16:57:33.724885Z",
     "start_time": "2024-09-11T16:57:33.720932Z"
    }
   },
   "source": [
    "nums = [-1,0,2,4,6,8,10,11]\n",
    "target = 4"
   ],
   "outputs": [],
   "execution_count": 2
  },
  {
   "metadata": {
    "ExecuteTime": {
     "end_time": "2024-09-12T01:56:55.574947Z",
     "start_time": "2024-09-12T01:56:55.521871Z"
    }
   },
   "cell_type": "code",
   "source": "ord('a')",
   "outputs": [
    {
     "data": {
      "text/plain": [
       "97"
      ]
     },
     "execution_count": 3,
     "metadata": {},
     "output_type": "execute_result"
    }
   ],
   "execution_count": 3
  },
  {
   "metadata": {
    "ExecuteTime": {
     "end_time": "2024-09-12T02:36:28.300808Z",
     "start_time": "2024-09-12T02:36:28.293363Z"
    }
   },
   "cell_type": "code",
   "source": [
    "# Group Anagrams\n",
    "\n",
    "\n",
    "def groupAnagrams(strs: List[str]) -> List[List[str]]:\n",
    "    result = defaultdict(list) # count: list_of_strings\n",
    "\n",
    "    for s in strs:\n",
    "        count = [0]*26\n",
    "        \n",
    "        for c in s:\n",
    "            count[ord(c) - ord('a')] +=1\n",
    "        \n",
    "        result[tuple(count)].append(s)\n",
    "    \n",
    "    return result.values()\n",
    "            \n",
    "            \n",
    "\n",
    "            \n",
    "            \n",
    "        \n",
    "        \n",
    "groupAnagrams([\"act\",\"pots\",\"tops\",\"cat\",\"stop\",\"hat\"])"
   ],
   "outputs": [
    {
     "data": {
      "text/plain": [
       "dict_values([['act', 'cat'], ['pots', 'tops', 'stop'], ['hat']])"
      ]
     },
     "execution_count": 28,
     "metadata": {},
     "output_type": "execute_result"
    }
   ],
   "execution_count": 28
  },
  {
   "metadata": {
    "ExecuteTime": {
     "end_time": "2024-09-12T02:33:44.290455Z",
     "start_time": "2024-09-12T02:33:44.283963Z"
    }
   },
   "cell_type": "code",
   "source": [
    "x = defaultdict(list)\n",
    "# x = {}\n",
    "\n",
    "x['A'].append('aa')\n",
    "x['A'].append('bb')\n",
    "\n",
    "x"
   ],
   "outputs": [
    {
     "data": {
      "text/plain": [
       "defaultdict(list, {'A': ['aa', 'bb']})"
      ]
     },
     "execution_count": 21,
     "metadata": {},
     "output_type": "execute_result"
    }
   ],
   "execution_count": 21
  },
  {
   "metadata": {
    "ExecuteTime": {
     "end_time": "2024-09-12T02:25:28.121717Z",
     "start_time": "2024-09-12T02:25:28.115339Z"
    }
   },
   "cell_type": "code",
   "source": [
    "a = [0]*26\n",
    "a[2] = 5\n",
    "a"
   ],
   "outputs": [
    {
     "data": {
      "text/plain": [
       "[0, 0, 5, 0, 0, 0, 0, 0, 0, 0, 0, 0, 0, 0, 0, 0, 0, 0, 0, 0, 0, 0, 0, 0, 0, 0]"
      ]
     },
     "execution_count": 11,
     "metadata": {},
     "output_type": "execute_result"
    }
   ],
   "execution_count": 11
  },
  {
   "metadata": {
    "ExecuteTime": {
     "end_time": "2024-09-12T02:25:30.481491Z",
     "start_time": "2024-09-12T02:25:30.473388Z"
    }
   },
   "cell_type": "code",
   "source": [
    "a[2] += 1\n",
    "a"
   ],
   "outputs": [
    {
     "data": {
      "text/plain": [
       "[0, 0, 6, 0, 0, 0, 0, 0, 0, 0, 0, 0, 0, 0, 0, 0, 0, 0, 0, 0, 0, 0, 0, 0, 0, 0]"
      ]
     },
     "execution_count": 12,
     "metadata": {},
     "output_type": "execute_result"
    }
   ],
   "execution_count": 12
  },
  {
   "cell_type": "code",
   "metadata": {
    "ExecuteTime": {
     "end_time": "2024-06-05T18:05:45.541070Z",
     "start_time": "2024-06-05T18:05:45.530582Z"
    }
   },
   "source": [
    "index_mid = len(nums) // 2\n",
    "mid_value = nums[index_mid]"
   ],
   "outputs": [],
   "execution_count": 54
  },
  {
   "metadata": {
    "ExecuteTime": {
     "end_time": "2024-06-05T18:05:45.654993Z",
     "start_time": "2024-06-05T18:05:45.646469Z"
    }
   },
   "cell_type": "code",
   "source": [
    "while mid_value != target:\n",
    "    if mid_value>target:\n",
    "        nums = nums[:index_mid]\n",
    "        index_mid = len(nums) // 2\n",
    "        mid_value = nums[index_mid]\n",
    "        print(nums)\n",
    "        print(index_mid)\n",
    "        print(mid_value)\n",
    "    else:\n",
    "        nums = nums[index_mid:]\n",
    "        index_mid = len(nums) // 2\n",
    "        mid_value = nums[index_mid]\n",
    "        print(nums)\n",
    "        print(index_mid)\n",
    "        print(mid_value)\n",
    "    \n",
    "    "
   ],
   "outputs": [
    {
     "name": "stdout",
     "output_type": "stream",
     "text": [
      "[-1, 0, 2, 4]\n",
      "2\n",
      "2\n",
      "[2, 4]\n",
      "1\n",
      "4\n"
     ]
    }
   ],
   "execution_count": 55
  },
  {
   "metadata": {
    "ExecuteTime": {
     "end_time": "2024-06-05T18:04:23.963548Z",
     "start_time": "2024-06-05T18:04:23.957789Z"
    }
   },
   "cell_type": "code",
   "source": "index_mid",
   "outputs": [
    {
     "data": {
      "text/plain": [
       "1"
      ]
     },
     "execution_count": 48,
     "metadata": {},
     "output_type": "execute_result"
    }
   ],
   "execution_count": 48
  },
  {
   "metadata": {
    "ExecuteTime": {
     "end_time": "2024-06-05T18:04:24.486826Z",
     "start_time": "2024-06-05T18:04:24.481715Z"
    }
   },
   "cell_type": "code",
   "source": "mid_value",
   "outputs": [
    {
     "data": {
      "text/plain": [
       "4"
      ]
     },
     "execution_count": 49,
     "metadata": {},
     "output_type": "execute_result"
    }
   ],
   "execution_count": 49
  },
  {
   "metadata": {},
   "cell_type": "code",
   "outputs": [],
   "execution_count": null,
   "source": ""
  }
 ],
 "metadata": {
  "kernelspec": {
   "display_name": "Python 3 (ipykernel)",
   "language": "python",
   "name": "python3"
  },
  "language_info": {
   "codemirror_mode": {
    "name": "ipython",
    "version": 3
   },
   "file_extension": ".py",
   "mimetype": "text/x-python",
   "name": "python",
   "nbconvert_exporter": "python",
   "pygments_lexer": "ipython3",
   "version": "3.10.9"
  }
 },
 "nbformat": 4,
 "nbformat_minor": 4
}
