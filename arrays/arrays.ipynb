{
 "cells": [
  {
   "metadata": {},
   "cell_type": "markdown",
   "source": "# Arrays",
   "id": "ae05db80aaad3760"
  },
  {
   "metadata": {
    "ExecuteTime": {
     "end_time": "2024-09-14T13:22:19.358950Z",
     "start_time": "2024-09-14T13:22:19.355165Z"
    }
   },
   "cell_type": "code",
   "source": [
    "from typing import List\n",
    "\n",
    "arr = [1,2,3,4,5,6,7,8,9]"
   ],
   "id": "89d312cb3ca82207",
   "outputs": [],
   "execution_count": 37
  },
  {
   "metadata": {
    "ExecuteTime": {
     "end_time": "2024-09-14T07:21:03.932820Z",
     "start_time": "2024-09-14T07:21:03.921251Z"
    }
   },
   "cell_type": "code",
   "source": [
    "# Delete ith element form a array and shift\n",
    "class ArraysNew:\n",
    "    def __init__(self):\n",
    "        pass\n",
    "    \n",
    "        \n",
    "    def removeMiddle(self, arr, i):\n",
    "        \n",
    "        for index in range(i+1, len(arr)):\n",
    "            arr[index - 1] = arr[index]\n",
    "        \n",
    "        arr.pop(len(arr)-1) \n",
    "        return arr\n",
    "\n",
    "aa = ArraysNew()\n",
    "aa.removeMiddle(arr, 2)"
   ],
   "id": "ab299ed9b65ecc82",
   "outputs": [
    {
     "data": {
      "text/plain": [
       "[1, 2, 4, 5, 6, 7, 8, 9]"
      ]
     },
     "execution_count": 6,
     "metadata": {},
     "output_type": "execute_result"
    }
   ],
   "execution_count": 6
  },
  {
   "metadata": {
    "ExecuteTime": {
     "end_time": "2024-09-14T06:08:03.458292Z",
     "start_time": "2024-09-14T06:08:03.451465Z"
    }
   },
   "cell_type": "code",
   "source": [
    "# Delete last element\n",
    "def removeLast(arr):\n",
    "    \n",
    "    if len(arr)>1:\n",
    "        arr[len(arr) -1 ] = 0 \n",
    "        \n",
    "    return  arr\n",
    "        \n",
    "removeLast(arr)"
   ],
   "id": "95dcf1622c9a5b79",
   "outputs": [
    {
     "data": {
      "text/plain": [
       "[1, 2, 3, 4, 5, 7, 8, 9, '', '', '', '', '', '', '', '', 0]"
      ]
     },
     "execution_count": 6,
     "metadata": {},
     "output_type": "execute_result"
    }
   ],
   "execution_count": 6
  },
  {
   "metadata": {
    "ExecuteTime": {
     "end_time": "2024-09-14T06:08:35.420463Z",
     "start_time": "2024-09-14T06:08:35.413697Z"
    }
   },
   "cell_type": "code",
   "source": [
    "# insert at the end\n",
    "\n",
    "def insertEnd(arr, n):\n",
    "    arr.append(n)\n",
    "    \n",
    "    return arr\n",
    "\n",
    "insertEnd(arr,5)\n",
    "    \n",
    "    \n",
    "    "
   ],
   "id": "39131eb76d0c00c6",
   "outputs": [
    {
     "data": {
      "text/plain": [
       "[1, 2, 3, 4, 5, 6, 7, 8, 9, 5]"
      ]
     },
     "execution_count": 11,
     "metadata": {},
     "output_type": "execute_result"
    }
   ],
   "execution_count": 11
  },
  {
   "metadata": {
    "ExecuteTime": {
     "end_time": "2024-09-14T06:49:22.104423Z",
     "start_time": "2024-09-14T06:49:22.096708Z"
    }
   },
   "cell_type": "code",
   "source": [
    "# insert at ith index \n",
    "# Tip reverse the range and shift element upto posistion\n",
    "\n",
    "def insertMiddle(arr,n, i):\n",
    "    x = arr.copy()\n",
    "    x.append(0)\n",
    "    for index in range(len(arr)-1, i-1, -1):\n",
    "\n",
    "        x[index+1] = x[index]\n",
    "        \n",
    "    x[i] = n\n",
    "    return x\n",
    "\n",
    "insertMiddle(arr,33,2)\n",
    "    "
   ],
   "id": "f90f29ef35d39970",
   "outputs": [
    {
     "data": {
      "text/plain": [
       "[1, 2, 33, 3, 4, 5, 6, 7, 8, 9]"
      ]
     },
     "execution_count": 33,
     "metadata": {},
     "output_type": "execute_result"
    }
   ],
   "execution_count": 33
  },
  {
   "metadata": {
    "ExecuteTime": {
     "end_time": "2024-09-14T06:48:43.746674Z",
     "start_time": "2024-09-14T06:48:43.740493Z"
    }
   },
   "cell_type": "code",
   "source": "[i for i in enumerate(arr)]#",
   "id": "13313d6c1d6517f8",
   "outputs": [],
   "execution_count": null
  },
  {
   "metadata": {
    "ExecuteTime": {
     "end_time": "2024-09-14T11:51:37.769116Z",
     "start_time": "2024-09-14T11:51:37.763946Z"
    }
   },
   "cell_type": "code",
   "source": "[i for i in range(5,3, -1)]",
   "id": "797004c5b09b279f",
   "outputs": [
    {
     "data": {
      "text/plain": [
       "[5, 4]"
      ]
     },
     "execution_count": 22,
     "metadata": {},
     "output_type": "execute_result"
    }
   ],
   "execution_count": 22
  },
  {
   "metadata": {
    "ExecuteTime": {
     "end_time": "2024-09-14T06:46:59.235091Z",
     "start_time": "2024-09-14T06:46:59.213862Z"
    }
   },
   "cell_type": "code",
   "source": "x",
   "id": "4b89612afd8ffa5",
   "outputs": [
    {
     "ename": "NameError",
     "evalue": "name 'x' is not defined",
     "output_type": "error",
     "traceback": [
      "\u001B[0;31m---------------------------------------------------------------------------\u001B[0m",
      "\u001B[0;31mNameError\u001B[0m                                 Traceback (most recent call last)",
      "Cell \u001B[0;32mIn[26], line 1\u001B[0m\n\u001B[0;32m----> 1\u001B[0m \u001B[43mx\u001B[49m\n",
      "\u001B[0;31mNameError\u001B[0m: name 'x' is not defined"
     ]
    }
   ],
   "execution_count": 26
  },
  {
   "metadata": {
    "ExecuteTime": {
     "end_time": "2024-09-15T12:36:15.210821Z",
     "start_time": "2024-09-15T12:36:15.206867Z"
    }
   },
   "cell_type": "code",
   "source": [
    "def removeIElelement(arr, i) :\n",
    "    \n",
    "    for index in range(i+1, len(arr)):\n",
    "        arr[index-1] = arr[index]\n",
    "    \n",
    "    arr.pop()\n",
    "        \n",
    "    "
   ],
   "id": "fab0bb615b0e3d0b",
   "outputs": [],
   "execution_count": 98
  },
  {
   "metadata": {
    "ExecuteTime": {
     "end_time": "2024-09-15T12:36:15.719961Z",
     "start_time": "2024-09-15T12:36:15.716377Z"
    }
   },
   "cell_type": "code",
   "source": "arr = [1,2,3,4,5,6,7,.88, 8,9]",
   "id": "201d9c5bf155d284",
   "outputs": [],
   "execution_count": 99
  },
  {
   "metadata": {
    "ExecuteTime": {
     "end_time": "2024-09-15T12:36:18.208479Z",
     "start_time": "2024-09-15T12:36:18.205365Z"
    }
   },
   "cell_type": "code",
   "source": "removeIElelement(arr,2)",
   "id": "1ac074450407dcbc",
   "outputs": [],
   "execution_count": 100
  },
  {
   "metadata": {
    "ExecuteTime": {
     "end_time": "2024-09-15T12:36:18.406493Z",
     "start_time": "2024-09-15T12:36:18.403936Z"
    }
   },
   "cell_type": "code",
   "source": "",
   "id": "2b51ddf64c9974d0",
   "outputs": [],
   "execution_count": 100
  },
  {
   "metadata": {
    "ExecuteTime": {
     "end_time": "2024-09-14T11:54:20.653134Z",
     "start_time": "2024-09-14T11:54:20.647595Z"
    }
   },
   "cell_type": "code",
   "source": "arr",
   "id": "a25ce7df498802a8",
   "outputs": [
    {
     "data": {
      "text/plain": [
       "[1, 2, 4, 5, 6, 7, 0.88, 8, 9]"
      ]
     },
     "execution_count": 31,
     "metadata": {},
     "output_type": "execute_result"
    }
   ],
   "execution_count": 31
  },
  {
   "metadata": {
    "ExecuteTime": {
     "end_time": "2024-09-14T11:54:23.051764Z",
     "start_time": "2024-09-14T11:54:23.043389Z"
    }
   },
   "cell_type": "code",
   "source": [
    "def addEAtI(arr, n, i): \n",
    "    \n",
    "    x = arr.copy()\n",
    "    x.append(0)\n",
    "    for index in range(len(arr)-1, i-1, -1):\n",
    "        x[index+1] = x[index]\n",
    "    \n",
    "    x[i] = n \n",
    "    \n",
    "    return  x\n",
    "\n",
    "addEAtI(arr, 23, 2)"
   ],
   "id": "59c5ff761ffcc969",
   "outputs": [
    {
     "data": {
      "text/plain": [
       "[1, 2, 23, 4, 5, 6, 7, 0.88, 8, 9]"
      ]
     },
     "execution_count": 32,
     "metadata": {},
     "output_type": "execute_result"
    }
   ],
   "execution_count": 32
  },
  {
   "metadata": {
    "ExecuteTime": {
     "end_time": "2024-09-14T11:53:46.006197Z",
     "start_time": "2024-09-14T11:53:45.999475Z"
    }
   },
   "cell_type": "code",
   "source": "arr",
   "id": "2a756961e176002",
   "outputs": [
    {
     "data": {
      "text/plain": [
       "[1, 2, 5, 6, 7, 8, 9]"
      ]
     },
     "execution_count": 27,
     "metadata": {},
     "output_type": "execute_result"
    }
   ],
   "execution_count": 27
  },
  {
   "metadata": {
    "ExecuteTime": {
     "end_time": "2024-09-14T12:20:10.750466Z",
     "start_time": "2024-09-14T12:20:10.744941Z"
    }
   },
   "cell_type": "code",
   "source": [
    "l,r = [1]*2\n",
    "l,r"
   ],
   "id": "66ed91dd640c8def",
   "outputs": [
    {
     "data": {
      "text/plain": [
       "(1, 1)"
      ]
     },
     "execution_count": 34,
     "metadata": {},
     "output_type": "execute_result"
    }
   ],
   "execution_count": 34
  },
  {
   "metadata": {},
   "cell_type": "code",
   "outputs": [],
   "execution_count": null,
   "source": "",
   "id": "86ff6367f933483b"
  },
  {
   "metadata": {
    "ExecuteTime": {
     "end_time": "2024-09-14T12:36:55.965441Z",
     "start_time": "2024-09-14T12:36:55.960490Z"
    }
   },
   "cell_type": "code",
   "source": [
    "# Remove duplicates-i leet code :  Remove Duplicates from Sorted Array\n",
    "\n",
    "# Input: nums = [0,0,1,1,1,2,2,3,3,4]\n",
    "# Output: 5, nums = [0,1,2,3,4,_,_,_,_,_]\n",
    "# Explanation: Your function should return k = 5, with the first five elements of nums being 0, 1, 2, 3, and 4 respectively.\n",
    "# It does not matter what you leave beyond the returned k (hence they are underscores).\n",
    "\n",
    "\n",
    "def removeDuplicates(arr):\n",
    "    \n",
    "    l = 1\n",
    "    for r in range(1,len(arr)):\n",
    "        if arr[r] != arr[r-1]:\n",
    "            arr[l] = arr[r]\n",
    "            l+=1\n",
    "    return l, arr\n",
    "        \n",
    "        \n",
    "        "
   ],
   "id": "d30103ab9328322d",
   "outputs": [],
   "execution_count": 35
  },
  {
   "metadata": {
    "ExecuteTime": {
     "end_time": "2024-09-14T12:37:08.381789Z",
     "start_time": "2024-09-14T12:37:08.375605Z"
    }
   },
   "cell_type": "code",
   "source": "removeDuplicates([0,0,1,1,1,2,2,3,3,4])",
   "id": "57db76ff5ac4346d",
   "outputs": [
    {
     "data": {
      "text/plain": [
       "(5, [0, 1, 2, 3, 4, 2, 2, 3, 3, 4])"
      ]
     },
     "execution_count": 36,
     "metadata": {},
     "output_type": "execute_result"
    }
   ],
   "execution_count": 36
  },
  {
   "metadata": {
    "ExecuteTime": {
     "end_time": "2024-09-14T13:52:28.982995Z",
     "start_time": "2024-09-14T13:52:28.971154Z"
    }
   },
   "cell_type": "code",
   "source": [
    "# # 27. Remove Element\n",
    "# Easy\n",
    "# \n",
    "# Given an integer array nums and an integer val, remove all occurrences of val in nums in-place. The order of the elements may be changed. Then return the number of elements in nums which are not equal to val.\n",
    "# \n",
    "# Consider the number of elements in nums which are not equal to val be k, to get accepted, you need to do the following things:\n",
    "# \n",
    "# Change the array nums such that the first k elements of nums contain the elements which are not equal to val. The remaining elements of nums are not important as well as the size of nums.\n",
    "# Return k.\n",
    "# \n",
    "# Example 1:\n",
    "# \n",
    "# Input: nums = [3,2,2,3], val = 3\n",
    "# Output: 2, nums = [2,2,_,_]\n",
    "# Explanation: Your function should return k = 2, with the first two elements of nums being 2.\n",
    "# It does not matter what you leave beyond the returned k (hence they are underscores).\n",
    "# Example 2:\n",
    "# \n",
    "# Input: nums = [0,1,2,2,3,0,4,2], val = 2\n",
    "# Output: 5, nums = [0,1,4,0,3,_,_,_]\n",
    "# Explanation: Your function should return k = 5, with the first five elements of nums containing 0, 0, 1, 3, and 4.\n",
    "# Note that the five elements can be returned in any order.\n",
    "# It does not matter what you leave beyond the returned k (hence they are underscores).\n",
    "\n",
    "\n",
    "def removeElement(arr: List[int], val: int ) -> int:\n",
    "    \n",
    "    k = 0 \n",
    "    \n",
    "    for index in range(len(arr)):\n",
    "        if arr[index] != val :\n",
    "            arr[k] = arr[index]\n",
    "            k+=1\n",
    "    return k,arr\n",
    "\n",
    "nums = [0,1,2,2,3,0,4,2]\n",
    "val = 2\n",
    "\n",
    "removeElement(nums,2)\n",
    "            \n",
    "\n",
    "            \n",
    "        \n",
    "    \n",
    "    \n",
    "    "
   ],
   "id": "7e8d5b896d098a89",
   "outputs": [
    {
     "data": {
      "text/plain": [
       "(5, [0, 1, 3, 0, 4, 0, 4, 2])"
      ]
     },
     "execution_count": 43,
     "metadata": {},
     "output_type": "execute_result"
    }
   ],
   "execution_count": 43
  },
  {
   "metadata": {
    "ExecuteTime": {
     "end_time": "2024-09-15T12:17:43.910181Z",
     "start_time": "2024-09-15T12:17:43.905105Z"
    }
   },
   "cell_type": "code",
   "source": "min(1,0.003 if 22 ==1 else 0.002)",
   "id": "f97585832cba1261",
   "outputs": [
    {
     "data": {
      "text/plain": [
       "0.002"
      ]
     },
     "execution_count": 97,
     "metadata": {},
     "output_type": "execute_result"
    }
   ],
   "execution_count": 97
  },
  {
   "metadata": {
    "ExecuteTime": {
     "end_time": "2024-09-14T15:00:20.398071Z",
     "start_time": "2024-09-14T15:00:20.388641Z"
    }
   },
   "cell_type": "code",
   "source": [
    "def getConcatenation(nums: List[int]) -> List[int]:\n",
    "    \n",
    "    ans = [0]*2*len(nums)\n",
    "\n",
    "    for i in range(len(ans)//2):\n",
    "        ans[i] = nums[i]\n",
    "        ans[i*2] = nums[i]\n",
    "\n",
    "\n",
    "\n",
    "    return ans\n",
    "\n",
    "nums = [1,3,2,1]\n",
    "getConcatenation(nums)"
   ],
   "id": "9412488408418dbe",
   "outputs": [
    {
     "data": {
      "text/plain": [
       "[1, 3, 2, 1, 2, 0, 1, 0]"
      ]
     },
     "execution_count": 46,
     "metadata": {},
     "output_type": "execute_result"
    }
   ],
   "execution_count": 46
  },
  {
   "metadata": {
    "ExecuteTime": {
     "end_time": "2024-09-14T15:44:02.669023Z",
     "start_time": "2024-09-14T15:44:02.663665Z"
    }
   },
   "cell_type": "code",
   "source": [
    "xx = '{)]]()})'\n",
    "\n",
    "xx[: len(xx)//2]"
   ],
   "id": "a0ee5a37512c03b6",
   "outputs": [
    {
     "data": {
      "text/plain": [
       "'{)]]'"
      ]
     },
     "execution_count": 51,
     "metadata": {},
     "output_type": "execute_result"
    }
   ],
   "execution_count": 51
  },
  {
   "metadata": {
    "ExecuteTime": {
     "end_time": "2024-09-14T15:44:16.479681Z",
     "start_time": "2024-09-14T15:44:16.474090Z"
    }
   },
   "cell_type": "code",
   "source": "len(xx)//2",
   "id": "a113727f39967a70",
   "outputs": [
    {
     "data": {
      "text/plain": [
       "4"
      ]
     },
     "execution_count": 52,
     "metadata": {},
     "output_type": "execute_result"
    }
   ],
   "execution_count": 52
  },
  {
   "metadata": {
    "ExecuteTime": {
     "end_time": "2024-09-15T11:42:28.783153Z",
     "start_time": "2024-09-15T11:42:28.778912Z"
    }
   },
   "cell_type": "code",
   "source": "key_map =  {')':'(', ']':'[' , '}':'{'}",
   "id": "a5d0805007295672",
   "outputs": [],
   "execution_count": 64
  },
  {
   "metadata": {
    "ExecuteTime": {
     "end_time": "2024-09-15T11:43:17.204740Z",
     "start_time": "2024-09-15T11:43:17.199626Z"
    }
   },
   "cell_type": "code",
   "source": "'(' in key_map.values()",
   "id": "a2dd242269e55d6d",
   "outputs": [
    {
     "data": {
      "text/plain": [
       "True"
      ]
     },
     "execution_count": 68,
     "metadata": {},
     "output_type": "execute_result"
    }
   ],
   "execution_count": 68
  },
  {
   "metadata": {
    "ExecuteTime": {
     "end_time": "2024-09-15T11:48:44.230589Z",
     "start_time": "2024-09-15T11:48:44.227339Z"
    }
   },
   "cell_type": "code",
   "source": [
    "ss = [1]\n",
    "if not ss:\n",
    "    print('tt')"
   ],
   "id": "fd09ba7a2046ba53",
   "outputs": [],
   "execution_count": 84
  },
  {
   "metadata": {
    "ExecuteTime": {
     "end_time": "2024-09-15T11:48:45.745396Z",
     "start_time": "2024-09-15T11:48:45.740364Z"
    }
   },
   "cell_type": "code",
   "source": "True if not ss else False",
   "id": "2ca9f3e05cdecf84",
   "outputs": [
    {
     "data": {
      "text/plain": [
       "False"
      ]
     },
     "execution_count": 85,
     "metadata": {},
     "output_type": "execute_result"
    }
   ],
   "execution_count": 85
  },
  {
   "metadata": {
    "ExecuteTime": {
     "end_time": "2024-09-15T11:44:14.799260Z",
     "start_time": "2024-09-15T11:44:14.792803Z"
    }
   },
   "cell_type": "code",
   "source": [
    "# Closing paranthesis \n",
    "\n",
    "def isValid(s:str):\n",
    "    \n",
    "    key_map = {')':'(', ']':'[' , '}':'{'}\n",
    "    stack = []\n",
    "    \n",
    "    for c in s:\n",
    "        if c in key_map.keys():\n",
    "            if stack and stack[-1] == key_map[c]:\n",
    "                stack.pop()\n",
    "            else:\n",
    "                return False\n",
    "            \n",
    "        else: \n",
    "            stack.append(c)\n",
    "            \n",
    "    return True if not stack else False\n"
   ],
   "id": "de78906acdf6ae3",
   "outputs": [],
   "execution_count": 69
  },
  {
   "metadata": {
    "ExecuteTime": {
     "end_time": "2024-09-15T11:44:34.047141Z",
     "start_time": "2024-09-15T11:44:34.041750Z"
    }
   },
   "cell_type": "code",
   "source": "isValid('{(])}')",
   "id": "ac3e03ac692ec9c",
   "outputs": [
    {
     "data": {
      "text/plain": [
       "False"
      ]
     },
     "execution_count": 72,
     "metadata": {},
     "output_type": "execute_result"
    }
   ],
   "execution_count": 72
  },
  {
   "metadata": {
    "ExecuteTime": {
     "end_time": "2024-09-15T12:41:42.249423Z",
     "start_time": "2024-09-15T12:41:42.241514Z"
    }
   },
   "cell_type": "code",
   "source": [
    "def isValidbrackets(s:str):\n",
    "    \n",
    "    stack = []\n",
    "    key_map = {'}':'{', ')':'(', ' ]':'['}\n",
    "    \n",
    "    for c in s:\n",
    "        if c in key_map.keys():\n",
    "            if stack and stack[-1] == key_map[c]:\n",
    "                stack.pop()\n",
    "            else:\n",
    "                return False, stack\n",
    "            \n",
    "        else:\n",
    "            stack.append(c)\n",
    "            \n",
    "    return True if not stack else False , stack\n",
    "\n",
    "isValidbrackets('(}{)')"
   ],
   "id": "82fde38f7d9e0fad",
   "outputs": [
    {
     "data": {
      "text/plain": [
       "(False, ['('])"
      ]
     },
     "execution_count": 103,
     "metadata": {},
     "output_type": "execute_result"
    }
   ],
   "execution_count": 103
  },
  {
   "metadata": {},
   "cell_type": "code",
   "outputs": [],
   "execution_count": null,
   "source": "",
   "id": "97f346b679c642b9"
  }
 ],
 "metadata": {
  "kernelspec": {
   "display_name": "Python 3",
   "language": "python",
   "name": "python3"
  },
  "language_info": {
   "codemirror_mode": {
    "name": "ipython",
    "version": 2
   },
   "file_extension": ".py",
   "mimetype": "text/x-python",
   "name": "python",
   "nbconvert_exporter": "python",
   "pygments_lexer": "ipython2",
   "version": "2.7.6"
  }
 },
 "nbformat": 4,
 "nbformat_minor": 5
}
