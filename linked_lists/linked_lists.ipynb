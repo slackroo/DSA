{
 "cells": [
  {
   "metadata": {},
   "cell_type": "markdown",
   "source": "# Singly added linked list",
   "id": "84cde321ba4b25d4"
  },
  {
   "metadata": {
    "ExecuteTime": {
     "end_time": "2024-09-17T05:38:18.675287Z",
     "start_time": "2024-09-17T05:38:18.670947Z"
    }
   },
   "cell_type": "code",
   "source": [
    "class ListNode:\n",
    "    def __init__(self,val =0 , next =None):\n",
    "        self.val = val\n",
    "        self.next = next\n",
    "    "
   ],
   "id": "194fd4b8d2c52d81",
   "outputs": [],
   "execution_count": 3
  },
  {
   "metadata": {
    "ExecuteTime": {
     "end_time": "2024-09-17T05:41:11.330116Z",
     "start_time": "2024-09-17T05:41:11.326701Z"
    }
   },
   "cell_type": "code",
   "source": "a = b = 5",
   "id": "3096b2efcf003fff",
   "outputs": [],
   "execution_count": 4
  },
  {
   "metadata": {
    "ExecuteTime": {
     "end_time": "2024-09-17T05:41:17.604929Z",
     "start_time": "2024-09-17T05:41:17.599059Z"
    }
   },
   "cell_type": "code",
   "source": "b",
   "id": "f160b099c13d4712",
   "outputs": [
    {
     "data": {
      "text/plain": [
       "5"
      ]
     },
     "execution_count": 6,
     "metadata": {},
     "output_type": "execute_result"
    }
   ],
   "execution_count": 6
  },
  {
   "metadata": {
    "ExecuteTime": {
     "end_time": "2024-09-17T05:44:23.527482Z",
     "start_time": "2024-09-17T05:44:23.522967Z"
    }
   },
   "cell_type": "code",
   "source": [
    "arr = [0,1,2,3]\n",
    "\n",
    "def list2link(lst):\n",
    "    curr = dummy = ListNode(0)\n",
    "    \n",
    "    for ele in lst:\n",
    "        curr.next = ListNode(ele)\n",
    "        curr = curr.next\n",
    "    return dummy.next\n",
    "        \n",
    "        \n",
    "        \n",
    "    "
   ],
   "id": "68f7b8c44cc71f6b",
   "outputs": [],
   "execution_count": 7
  },
  {
   "metadata": {
    "ExecuteTime": {
     "end_time": "2024-09-17T05:44:55.192173Z",
     "start_time": "2024-09-17T05:44:55.189063Z"
    }
   },
   "cell_type": "code",
   "source": "ll = list2link(arr)",
   "id": "4c35a5a43b227f83",
   "outputs": [],
   "execution_count": 9
  },
  {
   "metadata": {
    "ExecuteTime": {
     "end_time": "2024-09-17T05:47:29.088494Z",
     "start_time": "2024-09-17T05:47:29.066461Z"
    }
   },
   "cell_type": "code",
   "source": "ll.data\n",
   "id": "917750977b38d348",
   "outputs": [
    {
     "ename": "AttributeError",
     "evalue": "'ListNode' object has no attribute 'data'",
     "output_type": "error",
     "traceback": [
      "\u001B[0;31m---------------------------------------------------------------------------\u001B[0m",
      "\u001B[0;31mAttributeError\u001B[0m                            Traceback (most recent call last)",
      "Cell \u001B[0;32mIn[14], line 1\u001B[0m\n\u001B[0;32m----> 1\u001B[0m \u001B[43mll\u001B[49m\u001B[38;5;241;43m.\u001B[39;49m\u001B[43mdata\u001B[49m\n",
      "\u001B[0;31mAttributeError\u001B[0m: 'ListNode' object has no attribute 'data'"
     ]
    }
   ],
   "execution_count": 14
  },
  {
   "metadata": {
    "ExecuteTime": {
     "end_time": "2024-09-17T05:35:01.475402Z",
     "start_time": "2024-09-17T05:35:01.464682Z"
    }
   },
   "cell_type": "code",
   "source": [
    "# reverse linked list \n",
    "\n",
    "def reverseList(head):\n",
    "    \n",
    "    prev, curr = None, head\n",
    "    \n",
    "    while curr:\n",
    "        \n",
    "        nxt = curr.next\n",
    "        curr.next = prev\n",
    "        prev = curr\n",
    "        curr = nxt\n",
    "    \n",
    "    return prev\n",
    "        "
   ],
   "id": "bc1e3d853f2e2659",
   "outputs": [],
   "execution_count": 1
  },
  {
   "metadata": {
    "ExecuteTime": {
     "end_time": "2024-09-17T05:35:04.726823Z",
     "start_time": "2024-09-17T05:35:04.361421Z"
    }
   },
   "cell_type": "code",
   "source": "reverseList([0,1,2,3])",
   "id": "7078934d14b27f55",
   "outputs": [
    {
     "ename": "AttributeError",
     "evalue": "'list' object has no attribute 'next'",
     "output_type": "error",
     "traceback": [
      "\u001B[0;31m---------------------------------------------------------------------------\u001B[0m",
      "\u001B[0;31mAttributeError\u001B[0m                            Traceback (most recent call last)",
      "Cell \u001B[0;32mIn[2], line 1\u001B[0m\n\u001B[0;32m----> 1\u001B[0m \u001B[43mreverseList\u001B[49m\u001B[43m(\u001B[49m\u001B[43m[\u001B[49m\u001B[38;5;241;43m0\u001B[39;49m\u001B[43m,\u001B[49m\u001B[38;5;241;43m1\u001B[39;49m\u001B[43m,\u001B[49m\u001B[38;5;241;43m2\u001B[39;49m\u001B[43m,\u001B[49m\u001B[38;5;241;43m3\u001B[39;49m\u001B[43m]\u001B[49m\u001B[43m)\u001B[49m\n",
      "Cell \u001B[0;32mIn[1], line 9\u001B[0m, in \u001B[0;36mreverseList\u001B[0;34m(head)\u001B[0m\n\u001B[1;32m      5\u001B[0m prev, curr \u001B[38;5;241m=\u001B[39m \u001B[38;5;28;01mNone\u001B[39;00m, head\n\u001B[1;32m      7\u001B[0m \u001B[38;5;28;01mwhile\u001B[39;00m curr:\n\u001B[0;32m----> 9\u001B[0m     nxt \u001B[38;5;241m=\u001B[39m \u001B[43mcurr\u001B[49m\u001B[38;5;241;43m.\u001B[39;49m\u001B[43mnext\u001B[49m\n\u001B[1;32m     10\u001B[0m     curr\u001B[38;5;241m.\u001B[39mnext \u001B[38;5;241m=\u001B[39m prev\n\u001B[1;32m     11\u001B[0m     prev \u001B[38;5;241m=\u001B[39m curr\n",
      "\u001B[0;31mAttributeError\u001B[0m: 'list' object has no attribute 'next'"
     ]
    }
   ],
   "execution_count": 2
  },
  {
   "metadata": {
    "ExecuteTime": {
     "end_time": "2024-09-17T06:37:58.287003Z",
     "start_time": "2024-09-17T06:37:58.283671Z"
    }
   },
   "cell_type": "code",
   "source": "dummy = ListNode()",
   "id": "5e6cbbaff43b42f0",
   "outputs": [],
   "execution_count": 15
  },
  {
   "metadata": {
    "ExecuteTime": {
     "end_time": "2024-09-17T06:38:42.029107Z",
     "start_time": "2024-09-17T06:38:42.022602Z"
    }
   },
   "cell_type": "code",
   "source": "dir(dummy)",
   "id": "a2eafa03fa8a75a1",
   "outputs": [
    {
     "data": {
      "text/plain": [
       "['__class__',\n",
       " '__delattr__',\n",
       " '__dict__',\n",
       " '__dir__',\n",
       " '__doc__',\n",
       " '__eq__',\n",
       " '__format__',\n",
       " '__ge__',\n",
       " '__getattribute__',\n",
       " '__gt__',\n",
       " '__hash__',\n",
       " '__init__',\n",
       " '__init_subclass__',\n",
       " '__le__',\n",
       " '__lt__',\n",
       " '__module__',\n",
       " '__ne__',\n",
       " '__new__',\n",
       " '__reduce__',\n",
       " '__reduce_ex__',\n",
       " '__repr__',\n",
       " '__setattr__',\n",
       " '__sizeof__',\n",
       " '__str__',\n",
       " '__subclasshook__',\n",
       " '__weakref__',\n",
       " 'next',\n",
       " 'val']"
      ]
     },
     "execution_count": 20,
     "metadata": {},
     "output_type": "execute_result"
    }
   ],
   "execution_count": 20
  },
  {
   "metadata": {},
   "cell_type": "code",
   "outputs": [],
   "execution_count": null,
   "source": "",
   "id": "c8c07e09c7ee9ce4"
  }
 ],
 "metadata": {
  "kernelspec": {
   "display_name": "Python 3",
   "language": "python",
   "name": "python3"
  },
  "language_info": {
   "codemirror_mode": {
    "name": "ipython",
    "version": 2
   },
   "file_extension": ".py",
   "mimetype": "text/x-python",
   "name": "python",
   "nbconvert_exporter": "python",
   "pygments_lexer": "ipython2",
   "version": "2.7.6"
  }
 },
 "nbformat": 4,
 "nbformat_minor": 5
}
