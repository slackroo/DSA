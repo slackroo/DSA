{
 "cells": [
  {
   "metadata": {},
   "cell_type": "markdown",
   "source": [
    "Input: nums = [1,2,2,3,3,3], k = 2\n",
    "\n",
    "Output: [2,3]\n"
   ],
   "id": "a1607d8dc951124c"
  },
  {
   "metadata": {},
   "cell_type": "code",
   "outputs": [],
   "execution_count": null,
   "source": "",
   "id": "8a150ca141b77c06"
  },
  {
   "metadata": {
    "ExecuteTime": {
     "end_time": "2025-04-05T04:49:00.729352Z",
     "start_time": "2025-04-05T04:49:00.725650Z"
    }
   },
   "cell_type": "code",
   "source": [
    "nums = [1,2,2,3,3,3, 1]\n",
    "k = 2"
   ],
   "id": "21efbc20df1b4384",
   "outputs": [],
   "execution_count": 14
  },
  {
   "metadata": {
    "ExecuteTime": {
     "end_time": "2025-04-05T04:49:01.238270Z",
     "start_time": "2025-04-05T04:49:01.234250Z"
    }
   },
   "cell_type": "code",
   "source": [
    "hash = {}\n",
    "\n",
    "for i in nums:\n",
    "    hash[i] = 1 + hash.get(i,0)"
   ],
   "id": "6af3e884a123a953",
   "outputs": [],
   "execution_count": 15
  },
  {
   "metadata": {
    "ExecuteTime": {
     "end_time": "2025-04-05T04:49:01.721844Z",
     "start_time": "2025-04-05T04:49:01.717200Z"
    }
   },
   "cell_type": "code",
   "source": "hash",
   "id": "102c91da78058dfc",
   "outputs": [
    {
     "data": {
      "text/plain": [
       "{1: 2, 2: 2, 3: 3}"
      ]
     },
     "execution_count": 16,
     "metadata": {},
     "output_type": "execute_result"
    }
   ],
   "execution_count": 16
  },
  {
   "metadata": {
    "ExecuteTime": {
     "end_time": "2025-04-05T04:58:21.599561Z",
     "start_time": "2025-04-05T04:58:21.595747Z"
    }
   },
   "cell_type": "code",
   "source": [
    "min_k = [0] * k\n",
    "tt = []\n",
    "for k,v in hash.items():\n",
    "    tt.append((v,k))\n"
   ],
   "id": "999326298f8cbec7",
   "outputs": [],
   "execution_count": 25
  },
  {
   "metadata": {
    "ExecuteTime": {
     "end_time": "2025-04-05T04:58:23.711882Z",
     "start_time": "2025-04-05T04:58:23.705568Z"
    }
   },
   "cell_type": "code",
   "source": "tt\n",
   "id": "6f99d69d164fbe85",
   "outputs": [
    {
     "data": {
      "text/plain": [
       "[(2, 1), (2, 2), (3, 3)]"
      ]
     },
     "execution_count": 26,
     "metadata": {},
     "output_type": "execute_result"
    }
   ],
   "execution_count": 26
  },
  {
   "metadata": {
    "ExecuteTime": {
     "end_time": "2025-04-05T04:58:49.265797Z",
     "start_time": "2025-04-05T04:58:49.260119Z"
    }
   },
   "cell_type": "code",
   "source": "sorted(tt, key=lambda x:x[0], reverse=True)\n",
   "id": "d5963b3f21f46765",
   "outputs": [
    {
     "data": {
      "text/plain": [
       "[(3, 3), (2, 1), (2, 2)]"
      ]
     },
     "execution_count": 28,
     "metadata": {},
     "output_type": "execute_result"
    }
   ],
   "execution_count": 28
  },
  {
   "metadata": {
    "ExecuteTime": {
     "end_time": "2025-04-05T05:11:30.271610Z",
     "start_time": "2025-04-05T05:11:30.267070Z"
    }
   },
   "cell_type": "code",
   "source": [
    "def top_k(nums, k):\n",
    "\n",
    "    tt = {}\n",
    "    for i in nums:\n",
    "        tt[i] = 1 + tt.get(i,0)\n",
    "\n",
    "    tt = sorted(tt.items(), key=lambda x:x[1], reverse=True)\n",
    "\n",
    "    return [i[0] for i in tt[:k]]"
   ],
   "id": "e1a3c6f640c3d67a",
   "outputs": [],
   "execution_count": 29
  },
  {
   "metadata": {
    "ExecuteTime": {
     "end_time": "2025-04-05T05:12:46.933544Z",
     "start_time": "2025-04-05T05:12:46.927032Z"
    }
   },
   "cell_type": "code",
   "source": [
    "nums = [1,2,2,3,3,3, ]\n",
    "nums = [7,7]\n",
    "k = 2\n",
    "top_k(nums, 2)"
   ],
   "id": "32635e2b0b82ca45",
   "outputs": [
    {
     "data": {
      "text/plain": [
       "[7]"
      ]
     },
     "execution_count": 33,
     "metadata": {},
     "output_type": "execute_result"
    }
   ],
   "execution_count": 33
  },
  {
   "metadata": {},
   "cell_type": "code",
   "outputs": [],
   "execution_count": null,
   "source": "",
   "id": "b36105523292f581"
  }
 ],
 "metadata": {
  "kernelspec": {
   "display_name": "Python 3",
   "language": "python",
   "name": "python3"
  },
  "language_info": {
   "codemirror_mode": {
    "name": "ipython",
    "version": 2
   },
   "file_extension": ".py",
   "mimetype": "text/x-python",
   "name": "python",
   "nbconvert_exporter": "python",
   "pygments_lexer": "ipython2",
   "version": "2.7.6"
  }
 },
 "nbformat": 4,
 "nbformat_minor": 5
}
