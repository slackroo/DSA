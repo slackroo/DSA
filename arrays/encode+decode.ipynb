{
 "cells": [
  {
   "metadata": {},
   "cell_type": "markdown",
   "source": [
    "Encode and Decode Strings (Medium)\n",
    "Design an algorithm to encode a list of strings to a single string. The encoded string is then decoded back to the original list of strings.\n",
    "\n",
    "Please implement encode and decode\n",
    "\n",
    "Example 1:\n",
    "\n",
    "Input: [\"neet\",\"code\",\"love\",\"you\"]\n",
    "\n",
    "Output:[\"neet\",\"code\",\"love\",\"you\"]\n",
    "Example 2:\n",
    "\n",
    "Input: [\"we\",\"say\",\":\",\"yes\"]\n",
    "\n",
    "Output: [\"we\",\"say\",\":\",\"yes\"]\n",
    "\n",
    "Constraints:\n",
    "\n",
    "- 0 <= strs.length < 100\n",
    "- 0 <= strs[i].length < 200\n",
    "- strs[i] contains only UTF-8 characters."
   ],
   "id": "c7a58092d3e253f3"
  },
  {
   "cell_type": "code",
   "id": "initial_id",
   "metadata": {
    "collapsed": true,
    "ExecuteTime": {
     "end_time": "2025-04-05T06:18:28.219157Z",
     "start_time": "2025-04-05T06:18:28.210220Z"
    }
   },
   "source": [
    "from uu import decode\n",
    "\n",
    "strs = [\"we\",\"say\",\":\",\"yes\"]\n",
    "strs"
   ],
   "outputs": [
    {
     "data": {
      "text/plain": [
       "['we', 'say', ':', 'yes']"
      ]
     },
     "execution_count": 35,
     "metadata": {},
     "output_type": "execute_result"
    }
   ],
   "execution_count": 35
  },
  {
   "metadata": {
    "ExecuteTime": {
     "end_time": "2025-04-05T06:18:28.309601Z",
     "start_time": "2025-04-05T06:18:28.302846Z"
    }
   },
   "cell_type": "code",
   "source": [
    "t = {s:len(s) for s in strs}\n",
    "t"
   ],
   "id": "4c79c14648e693f4",
   "outputs": [
    {
     "data": {
      "text/plain": [
       "{'we': 2, 'say': 3, ':': 1, 'yes': 3}"
      ]
     },
     "execution_count": 36,
     "metadata": {},
     "output_type": "execute_result"
    }
   ],
   "execution_count": 36
  },
  {
   "metadata": {
    "ExecuteTime": {
     "end_time": "2025-04-05T06:18:28.363932Z",
     "start_time": "2025-04-05T06:18:28.358316Z"
    }
   },
   "cell_type": "code",
   "source": [
    "encoded_str = \"\".join([str(t[word])+\"#\"+word for word in strs])\n",
    "encoded_str"
   ],
   "id": "4f1a49e5603863e1",
   "outputs": [
    {
     "data": {
      "text/plain": [
       "'2#we3#say1#:3#yes'"
      ]
     },
     "execution_count": 37,
     "metadata": {},
     "output_type": "execute_result"
    }
   ],
   "execution_count": 37
  },
  {
   "metadata": {
    "ExecuteTime": {
     "end_time": "2025-04-05T06:18:28.420897Z",
     "start_time": "2025-04-05T06:18:28.416250Z"
    }
   },
   "cell_type": "code",
   "source": [
    "decoded_ls = []\n",
    "s = encoded_str\n",
    "i = 0\n",
    "\n",
    "while i < len(s):\n",
    "    j = i\n",
    "    while s[j] != '#':  # dont forget to access the sting character\n",
    "        j +=1\n",
    "    length = int(s[i:j])\n",
    "    i = j+1\n",
    "    j = i + length\n",
    "\n",
    "    decoded_ls.append(s[i:j])\n",
    "\n",
    "    i=j"
   ],
   "id": "8836c37429d6d86c",
   "outputs": [],
   "execution_count": 38
  },
  {
   "metadata": {
    "ExecuteTime": {
     "end_time": "2025-04-05T06:18:28.445127Z",
     "start_time": "2025-04-05T06:18:28.440343Z"
    }
   },
   "cell_type": "code",
   "source": "decoded_ls",
   "id": "266e882d9123aa13",
   "outputs": [
    {
     "data": {
      "text/plain": [
       "['we', 'say', ':', 'yes']"
      ]
     },
     "execution_count": 39,
     "metadata": {},
     "output_type": "execute_result"
    }
   ],
   "execution_count": 39
  },
  {
   "metadata": {
    "ExecuteTime": {
     "end_time": "2025-04-05T06:18:28.479469Z",
     "start_time": "2025-04-05T06:18:28.474294Z"
    }
   },
   "cell_type": "code",
   "source": "strs",
   "id": "5067c4ed2bd831f4",
   "outputs": [
    {
     "data": {
      "text/plain": [
       "['we', 'say', ':', 'yes']"
      ]
     },
     "execution_count": 40,
     "metadata": {},
     "output_type": "execute_result"
    }
   ],
   "execution_count": 40
  },
  {
   "metadata": {
    "ExecuteTime": {
     "end_time": "2025-04-05T06:18:28.523465Z",
     "start_time": "2025-04-05T06:18:28.517055Z"
    }
   },
   "cell_type": "code",
   "source": "\"\".join([str(len(s))+\"#\"+s for s in strs])",
   "id": "c00c7a322d04dbf9",
   "outputs": [
    {
     "data": {
      "text/plain": [
       "'2#we3#say1#:3#yes'"
      ]
     },
     "execution_count": 41,
     "metadata": {},
     "output_type": "execute_result"
    }
   ],
   "execution_count": 41
  },
  {
   "metadata": {
    "ExecuteTime": {
     "end_time": "2025-04-05T06:18:28.563418Z",
     "start_time": "2025-04-05T06:18:28.560333Z"
    }
   },
   "cell_type": "code",
   "source": "",
   "id": "fb4879f31a847b13",
   "outputs": [],
   "execution_count": null
  }
 ],
 "metadata": {
  "kernelspec": {
   "display_name": "Python 3",
   "language": "python",
   "name": "python3"
  },
  "language_info": {
   "codemirror_mode": {
    "name": "ipython",
    "version": 2
   },
   "file_extension": ".py",
   "mimetype": "text/x-python",
   "name": "python",
   "nbconvert_exporter": "python",
   "pygments_lexer": "ipython2",
   "version": "2.7.6"
  }
 },
 "nbformat": 4,
 "nbformat_minor": 5
}
