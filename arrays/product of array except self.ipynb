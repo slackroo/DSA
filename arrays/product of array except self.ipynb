{
 "cells": [
  {
   "metadata": {},
   "cell_type": "markdown",
   "source": [
    "```\n",
    "Input: nums = [1,2,4,6]\n",
    "\n",
    "Output: [48,24,12,8]\n",
    "```"
   ],
   "id": "33037f114e12efd"
  },
  {
   "metadata": {
    "ExecuteTime": {
     "end_time": "2025-04-08T16:11:19.988318Z",
     "start_time": "2025-04-08T16:11:19.984776Z"
    }
   },
   "cell_type": "code",
   "source": [
    "nums = [1,2,4,6]\n",
    "\n",
    "# Output: [48,24,12,8]\n"
   ],
   "id": "e9e8d08c24f07e90",
   "outputs": [],
   "execution_count": 7
  },
  {
   "metadata": {
    "ExecuteTime": {
     "end_time": "2025-04-08T16:07:35.183548Z",
     "start_time": "2025-04-08T16:07:35.174098Z"
    }
   },
   "cell_type": "code",
   "source": [
    "\n",
    "sum(nums)"
   ],
   "id": "d7123feabe9447f4",
   "outputs": [
    {
     "data": {
      "text/plain": [
       "13"
      ]
     },
     "execution_count": 2,
     "metadata": {},
     "output_type": "execute_result"
    }
   ],
   "execution_count": 2
  },
  {
   "metadata": {
    "ExecuteTime": {
     "end_time": "2025-04-08T16:13:48.767363Z",
     "start_time": "2025-04-08T16:13:48.759886Z"
    }
   },
   "cell_type": "code",
   "source": [
    "op = []\n",
    "# s_nums = [i*i for i in nums]\n",
    "for i, num in enumerate(nums):\n",
    "    tot_s = nums.copy()\n",
    "    tot_s.pop(i)\n",
    "    tot = 1\n",
    "    while tot_s:\n",
    "        tot *= tot_s.pop()\n",
    "\n",
    "    print(tot, )\n",
    "    op.append(tot)\n",
    "\n",
    "op\n",
    "\n"
   ],
   "id": "f5b26cf6321227c2",
   "outputs": [
    {
     "name": "stdout",
     "output_type": "stream",
     "text": [
      "48\n",
      "24\n",
      "12\n",
      "8\n"
     ]
    },
    {
     "data": {
      "text/plain": [
       "[48, 24, 12, 8]"
      ]
     },
     "execution_count": 9,
     "metadata": {},
     "output_type": "execute_result"
    }
   ],
   "execution_count": 9
  },
  {
   "metadata": {},
   "cell_type": "code",
   "outputs": [],
   "execution_count": null,
   "source": [
    "def productExceptSelf(self, nums: List[int]) -> List[int]:\n",
    "        op = []\n",
    "        # s_nums = [i*i for i in nums]\n",
    "        for i, num in enumerate(nums):\n",
    "            tot_s = nums.copy()\n",
    "            tot_s.pop(i)\n",
    "            tot = 1\n",
    "            while tot_s:\n",
    "                tot *= tot_s.pop()\n",
    "\n",
    "            print(tot, )\n",
    "            op.append(tot)\n",
    "        return op"
   ],
   "id": "4d931965e05272d0"
  }
 ],
 "metadata": {
  "kernelspec": {
   "display_name": "Python 3",
   "language": "python",
   "name": "python3"
  },
  "language_info": {
   "codemirror_mode": {
    "name": "ipython",
    "version": 2
   },
   "file_extension": ".py",
   "mimetype": "text/x-python",
   "name": "python",
   "nbconvert_exporter": "python",
   "pygments_lexer": "ipython2",
   "version": "2.7.6"
  }
 },
 "nbformat": 4,
 "nbformat_minor": 5
}
