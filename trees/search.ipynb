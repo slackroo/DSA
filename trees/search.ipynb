{
 "cells": [
  {
   "cell_type": "code",
   "id": "initial_id",
   "metadata": {
    "collapsed": true,
    "ExecuteTime": {
     "end_time": "2024-10-21T15:34:23.896026Z",
     "start_time": "2024-10-21T15:34:23.864876Z"
    }
   },
   "source": "1+2",
   "outputs": [
    {
     "data": {
      "text/plain": [
       "3"
      ]
     },
     "execution_count": 1,
     "metadata": {},
     "output_type": "execute_result"
    }
   ],
   "execution_count": 1
  },
  {
   "metadata": {
    "ExecuteTime": {
     "end_time": "2024-10-22T18:56:42.892832Z",
     "start_time": "2024-10-22T18:56:42.884304Z"
    }
   },
   "cell_type": "code",
   "source": [
    "# Binary search\n",
    "class TreeNode:\n",
    "    def __init__(self, val):\n",
    "        self.val = val\n",
    "        self.left = None\n",
    "        self.right = None\n",
    "        \n",
    "def insert(root,val):\n",
    "    if not root:\n",
    "        root = TreeNode(val)\n",
    "    \n",
    "    if val > root.val:\n",
    "        root.right   = insert(root.right,val)\n",
    "    elif val < root.val:\n",
    "        root.left = insert(root.left, val)\n",
    "    \n",
    "    return  root\n",
    "\n",
    "def list_to_bst(lst):\n",
    "    root = None\n",
    "    for item in lst:\n",
    "        root = insert(root,item)\n",
    "    return root\n",
    "# In-order traversal to check if the tree is correctly built\n",
    "def inorder_traversal(root):\n",
    "    if root:\n",
    "        yield from inorder_traversal(root.left)\n",
    "        yield root.val\n",
    "        yield from inorder_traversal(root.right)\n",
    "        \n",
    "\n",
    "\n",
    "# Example usage:\n",
    "unsorted_list = [7, 3, 1, 5, 9, 8, 6]\n",
    "bst_root = list_to_bst(unsorted_list)\n",
    "\n",
    "# Memory efficient in-order traversal using generator\n",
    "inorder_result = list(inorder_traversal(bst_root))\n",
    "print(\"In-order Traversal (Sorted List):\", inorder_result)\n",
    "        \n",
    "            \n",
    "        \n",
    "            \n",
    "            "
   ],
   "id": "57c7a6a7cbf5ffc3",
   "outputs": [
    {
     "name": "stdout",
     "output_type": "stream",
     "text": [
      "In-order Traversal (Sorted List): [1, 3, 5, 6, 7, 8, 9]\n"
     ]
    }
   ],
   "execution_count": 23
  },
  {
   "metadata": {
    "ExecuteTime": {
     "end_time": "2024-10-22T18:56:43.612465Z",
     "start_time": "2024-10-22T18:56:43.609682Z"
    }
   },
   "cell_type": "code",
   "source": "",
   "id": "f2f725736c51dc8b",
   "outputs": [],
   "execution_count": 23
  },
  {
   "metadata": {},
   "cell_type": "code",
   "outputs": [],
   "execution_count": null,
   "source": [
    "7class Solution:\n",
    "    def searchBST(self, root: Optional[TreeNode], val: int) -> Optional[TreeNode]:\n",
    "\n",
    "        if not root:\n",
    "            return \n",
    "        \n",
    "        if val > root.val:\n",
    "            return self.searchBST(root.right,val)\n",
    "        elif val < root.val:\n",
    "            return self.searchBST(root.left,val)\n",
    "        else:\n",
    "            return root"
   ],
   "id": "20abcd33412114b1"
  },
  {
   "metadata": {},
   "cell_type": "code",
   "outputs": [],
   "execution_count": null,
   "source": [
    "# remove a node\n",
    "\n",
    "\n",
    "# Definition for a binary tree node.\n",
    "# class TreeNode:\n",
    "#     def __init__(self, val=0, left=None, right=None):\n",
    "#         self.val = val\n",
    "#         self.left = left\n",
    "#         self.right = right\n",
    "class Solution:\n",
    "    def deleteNode(self, root: Optional[TreeNode], key: int) -> Optional[TreeNode]:\n",
    "\n",
    "        def findMinNode(root):\n",
    "            curr = root\n",
    "            while curr and curr.left:\n",
    "                curr = curr.left\n",
    "            return curr\n",
    "\n",
    "        if not root:\n",
    "            return None\n",
    "\n",
    "        if key > root.val:\n",
    "            root.right = self.deleteNode(root.right, key)\n",
    "        elif key < root.val:\n",
    "            root.left = self.deleteNode(root.left, key)\n",
    "        else:\n",
    "            if not root.right:\n",
    "                return root.left\n",
    "            elif not root.left:\n",
    "                return root.right\n",
    "            else:\n",
    "                minnode = findMinNode(root.right)\n",
    "                root.val = minnode.val\n",
    "                root.right = self.deleteNode(root.right,minnode.val)\n",
    "        \n",
    "        return root\n",
    "        \n",
    "\n",
    "\n",
    "        \n",
    "\n",
    "\n"
   ],
   "id": "af8cc5aa79fbce79"
  },
  {
   "metadata": {},
   "cell_type": "code",
   "outputs": [],
   "execution_count": null,
   "source": "",
   "id": "94698e0c0fdb9b6a"
  }
 ],
 "metadata": {
  "kernelspec": {
   "display_name": "Python 3",
   "language": "python",
   "name": "python3"
  },
  "language_info": {
   "codemirror_mode": {
    "name": "ipython",
    "version": 2
   },
   "file_extension": ".py",
   "mimetype": "text/x-python",
   "name": "python",
   "nbconvert_exporter": "python",
   "pygments_lexer": "ipython2",
   "version": "2.7.6"
  }
 },
 "nbformat": 4,
 "nbformat_minor": 5
}
