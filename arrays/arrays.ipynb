{
 "cells": [
  {
   "metadata": {},
   "cell_type": "markdown",
   "source": "# Arrays",
   "id": "ae05db80aaad3760"
  },
  {
   "metadata": {
    "ExecuteTime": {
     "end_time": "2024-09-13T13:28:02.592668Z",
     "start_time": "2024-09-13T13:28:02.579490Z"
    }
   },
   "cell_type": "code",
   "source": "arr = [1,2,3,4,5,6,7,8,9]",
   "id": "89d312cb3ca82207",
   "outputs": [],
   "execution_count": 28
  },
  {
   "metadata": {
    "ExecuteTime": {
     "end_time": "2024-09-13T13:28:10.758594Z",
     "start_time": "2024-09-13T13:28:10.752088Z"
    }
   },
   "cell_type": "code",
   "source": [
    "# Delete ith element form a array and shift\n",
    "def removeMidell(arr, i):\n",
    "    \n",
    "    for index in range(i+1, len(arr)):\n",
    "        arr[index - 1] = arr[index]\n",
    "    \n",
    "    arr.pop(len(arr)-1) \n",
    "    return arr\n",
    "\n",
    "removeMidell(arr,5)\n",
    "    "
   ],
   "id": "ab299ed9b65ecc82",
   "outputs": [
    {
     "data": {
      "text/plain": [
       "[1, 2, 3, 4, 5, 8, 9]"
      ]
     },
     "execution_count": 30,
     "metadata": {},
     "output_type": "execute_result"
    }
   ],
   "execution_count": 30
  },
  {
   "metadata": {
    "ExecuteTime": {
     "end_time": "2024-09-13T13:23:18.786987Z",
     "start_time": "2024-09-13T13:23:18.766977Z"
    }
   },
   "cell_type": "code",
   "source": [
    "# Delete last element\n",
    "def removeLast(arr):\n",
    "    \n",
    "    if len(arr)>1:\n",
    "        arr[len(arr) -1 ] = 0 \n",
    "        \n",
    "    return  arr\n",
    "        \n",
    "removeLast(arr)"
   ],
   "id": "95dcf1622c9a5b79",
   "outputs": [
    {
     "data": {
      "text/plain": [
       "[1, 3, 4, 5, 6, 7, 8, 9, 0]"
      ]
     },
     "execution_count": 4,
     "metadata": {},
     "output_type": "execute_result"
    }
   ],
   "execution_count": 4
  },
  {
   "metadata": {},
   "cell_type": "code",
   "outputs": [],
   "execution_count": null,
   "source": "# insert ",
   "id": "39131eb76d0c00c6"
  }
 ],
 "metadata": {
  "kernelspec": {
   "display_name": "Python 3",
   "language": "python",
   "name": "python3"
  },
  "language_info": {
   "codemirror_mode": {
    "name": "ipython",
    "version": 2
   },
   "file_extension": ".py",
   "mimetype": "text/x-python",
   "name": "python",
   "nbconvert_exporter": "python",
   "pygments_lexer": "ipython2",
   "version": "2.7.6"
  }
 },
 "nbformat": 4,
 "nbformat_minor": 5
}
