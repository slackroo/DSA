{
 "cells": [
  {
   "cell_type": "code",
   "id": "initial_id",
   "metadata": {
    "collapsed": true,
    "ExecuteTime": {
     "end_time": "2024-10-23T11:57:14.656172Z",
     "start_time": "2024-10-23T11:57:14.641245Z"
    }
   },
   "source": "1+1",
   "outputs": [
    {
     "data": {
      "text/plain": [
       "2"
      ]
     },
     "execution_count": 1,
     "metadata": {},
     "output_type": "execute_result"
    }
   ],
   "execution_count": 1
  },
  {
   "metadata": {},
   "cell_type": "markdown",
   "source": "# Traversal ( use : Iteration on trees) ",
   "id": "164a44a56bc8c39e"
  },
  {
   "metadata": {},
   "cell_type": "markdown",
   "source": [
    "## Sorting \n",
    "- Inorder traversal : Sorting tree in order $O(n + nlog n)  ie  O(nlog n)$ nlogn because it is larger and is dominated \n",
    "- PreOrder  traversal, In Cases were we want to visit (print/func) the root node and then func childeren recursively\n",
    "- Postorder traversal"
   ],
   "id": "5bee8eb4e53b81b3"
  },
  {
   "metadata": {
    "ExecuteTime": {
     "end_time": "2024-10-23T13:17:57.672682Z",
     "start_time": "2024-10-23T13:17:57.665209Z"
    }
   },
   "cell_type": "code",
   "source": [
    "# basic tree \n",
    "\n",
    "class TreeNode:\n",
    "    def __init__(self,val = 0, left = None, right = None):\n",
    "        self.val = val\n",
    "        self.left = left\n",
    "        self.right = right\n",
    "        \n",
    "def insert(root, val):\n",
    "    if not root:\n",
    "        root = TreeNode(val)\n",
    "    \n",
    "    if val > root.val:\n",
    "        root.right = insert(root.right,val)\n",
    "    elif val < root.val:\n",
    "        root.left = insert(root.left, val)\n",
    "    \n",
    "    return root\n",
    "    \n",
    "def list_to_bst(ls):\n",
    "    root = None\n",
    "    \n",
    "    for ele in ls:\n",
    "        root = insert(root,ele)\n",
    "    return  root\n",
    "    \n",
    "# Example usage:\n",
    "unsorted_list = [7, 3, 1, 5, 9, 8, 6]\n",
    "bst_root = list_to_bst(unsorted_list)"
   ],
   "id": "ad04f96476722daa",
   "outputs": [],
   "execution_count": 14
  },
  {
   "metadata": {
    "ExecuteTime": {
     "end_time": "2024-10-23T13:17:58.942307Z",
     "start_time": "2024-10-23T13:17:58.936285Z"
    }
   },
   "cell_type": "code",
   "source": "bst_root",
   "id": "a7dff5d3debebd4e",
   "outputs": [
    {
     "data": {
      "text/plain": [
       "<__main__.TreeNode at 0x10f6a6410>"
      ]
     },
     "execution_count": 15,
     "metadata": {},
     "output_type": "execute_result"
    }
   ],
   "execution_count": 15
  },
  {
   "metadata": {
    "ExecuteTime": {
     "end_time": "2024-10-23T14:17:33.051527Z",
     "start_time": "2024-10-23T14:17:33.046274Z"
    }
   },
   "cell_type": "code",
   "source": [
    "def inorder(root):\n",
    "    if not root:\n",
    "        return \n",
    "    \n",
    "    inorder(root.left)\n",
    "    print(root.val)\n",
    "    inorder(root.right)\n",
    "    \n",
    "def inorder(root):\n",
    "    if not root:\n",
    "        return \n",
    "    \n",
    "    inorder(root.right)\n",
    "    print(root.val)\n",
    "    inorder(root.left)\n",
    "    \n",
    "    \n",
    "inorder(bst_root)"
   ],
   "id": "9efee68785ae69a4",
   "outputs": [
    {
     "name": "stdout",
     "output_type": "stream",
     "text": [
      "9\n",
      "8\n",
      "7\n",
      "6\n",
      "5\n",
      "3\n",
      "1\n"
     ]
    }
   ],
   "execution_count": 19
  },
  {
   "metadata": {
    "ExecuteTime": {
     "end_time": "2024-10-23T15:31:26.538100Z",
     "start_time": "2024-10-23T15:31:26.533304Z"
    }
   },
   "cell_type": "code",
   "source": [
    "def preorder(root):\n",
    "    if not root:\n",
    "        return \n",
    "    \n",
    "    print(root.val)\n",
    "    preorder(root.left)\n",
    "    preorder(root.right)\n",
    "\n",
    "preorder(bst_root)\n",
    "\n"
   ],
   "id": "9bc88468e9ab73b7",
   "outputs": [
    {
     "name": "stdout",
     "output_type": "stream",
     "text": [
      "7\n",
      "3\n",
      "1\n",
      "5\n",
      "6\n",
      "9\n",
      "8\n"
     ]
    }
   ],
   "execution_count": 20
  },
  {
   "metadata": {
    "ExecuteTime": {
     "end_time": "2024-10-23T15:32:02.435323Z",
     "start_time": "2024-10-23T15:32:02.429877Z"
    }
   },
   "cell_type": "code",
   "source": [
    "def postorder(root):\n",
    "    if not root:\n",
    "        return \n",
    "    \n",
    "    postorder(root.left)\n",
    "    postorder(root.right)\n",
    "    print(root.val)\n",
    "    \n",
    "postorder(bst_root)"
   ],
   "id": "a286b06103e42fc5",
   "outputs": [
    {
     "name": "stdout",
     "output_type": "stream",
     "text": [
      "1\n",
      "6\n",
      "5\n",
      "3\n",
      "8\n",
      "9\n",
      "7\n"
     ]
    }
   ],
   "execution_count": 21
  },
  {
   "metadata": {},
   "cell_type": "markdown",
   "source": "# BFS",
   "id": "997bea39ada7116c"
  },
  {
   "metadata": {},
   "cell_type": "code",
   "outputs": [],
   "execution_count": null,
   "source": "",
   "id": "34079f74f2b94a20"
  }
 ],
 "metadata": {
  "kernelspec": {
   "display_name": "Python 3",
   "language": "python",
   "name": "python3"
  },
  "language_info": {
   "codemirror_mode": {
    "name": "ipython",
    "version": 2
   },
   "file_extension": ".py",
   "mimetype": "text/x-python",
   "name": "python",
   "nbconvert_exporter": "python",
   "pygments_lexer": "ipython2",
   "version": "2.7.6"
  }
 },
 "nbformat": 4,
 "nbformat_minor": 5
}
